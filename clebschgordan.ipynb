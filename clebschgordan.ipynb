{
 "cells": [
  {
   "cell_type": "code",
   "execution_count": 23,
   "metadata": {},
   "outputs": [],
   "source": [
    "from math import factorial, sqrt, isclose\n",
    "\n",
    "def wigner3j(j1, j2, j3, m1, m2, m3):\n",
    "    '''Returns the square of the specified Wigner 3-j symbol'''\n",
    "\n",
    "    CG = 0\n",
    "    for k in range(max(0, j3 - m3 + m1 - j1), min(j2 - m2, j3 - m3) + 1): # range gotten by examining inequalities obtained from the six factorial factors in summand\n",
    "        CG += ((-1)**(j1-m1-j3+m3+k)*(factorial(j1+m1+j3-m3-k)*factorial(j2+m2+k)) / \n",
    "               (factorial(k)*factorial(j3-m3-k)*factorial(j1-m1-j3+m3+k)*factorial(j2-m2-k)))\n",
    "\n",
    "    CG **= 2\n",
    "    \n",
    "    CG *= ((factorial(j1+j2-j3)*(2*j3+1)*factorial(j3+m3)*factorial(j3-m3)*factorial(j1-m1)*factorial(j2-m2)) / \n",
    "           (factorial(j1-j2+j3)*factorial(j2-j1+j3)*factorial(j1+j2+j3+1)*factorial(j1+m1)*factorial(j2+m2)))\n",
    "    \n",
    "    return 1/(2*j3+1)*CG\n"
   ]
  },
  {
   "cell_type": "code",
   "execution_count": 24,
   "metadata": {},
   "outputs": [
    {
     "data": {
      "text/plain": [
       "True"
      ]
     },
     "metadata": {},
     "output_type": "display_data"
    },
    {
     "data": {
      "text/plain": [
       "True"
      ]
     },
     "metadata": {},
     "output_type": "display_data"
    },
    {
     "data": {
      "text/plain": [
       "True"
      ]
     },
     "metadata": {},
     "output_type": "display_data"
    },
    {
     "data": {
      "text/plain": [
       "True"
      ]
     },
     "metadata": {},
     "output_type": "display_data"
    },
    {
     "data": {
      "text/plain": [
       "True"
      ]
     },
     "metadata": {},
     "output_type": "display_data"
    },
    {
     "data": {
      "text/plain": [
       "True"
      ]
     },
     "metadata": {},
     "output_type": "display_data"
    },
    {
     "data": {
      "text/plain": [
       "True"
      ]
     },
     "metadata": {},
     "output_type": "display_data"
    },
    {
     "data": {
      "text/plain": [
       "True"
      ]
     },
     "metadata": {},
     "output_type": "display_data"
    }
   ],
   "source": [
    "# Let's test the function\n",
    "\n",
    "display(isclose(wigner3j(0,1,1,0,0,0), 1/3))\n",
    "display(isclose(wigner3j(0,2,2,0,0,0), 1/5))\n",
    "display(isclose(wigner3j(1,5,6,0,0,0), 6/143))\n",
    "display(isclose(wigner3j(2,3,3,0,0,0), 4/105))\n",
    "display(isclose(wigner3j(3,3,4,0,0,0), 2/77))\n",
    "display(isclose(wigner3j(3,3,6,0,0,0), 100/3003))\n",
    "display(isclose(wigner3j(3,4,5,0,0,0), 20/1001))\n",
    "display(isclose(wigner3j(5,5,6,0,0,0), 80/7293))"
   ]
  },
  {
   "cell_type": "code",
   "execution_count": 25,
   "metadata": {},
   "outputs": [
    {
     "data": {
      "text/plain": [
       "0.1111111111111111"
      ]
     },
     "metadata": {},
     "output_type": "display_data"
    },
    {
     "data": {
      "text/plain": [
       "0.05050505050505051"
      ]
     },
     "metadata": {},
     "output_type": "display_data"
    },
    {
     "data": {
      "text/plain": [
       "0.0"
      ]
     },
     "metadata": {},
     "output_type": "display_data"
    },
    {
     "data": {
      "text/plain": [
       "0.01798201798201798"
      ]
     },
     "metadata": {},
     "output_type": "display_data"
    }
   ],
   "source": [
    "# Now we can be confident it works, so we can fill in the values in the table\n",
    "\n",
    "display(wigner3j(0,4,4,0,0,0))\n",
    "display(wigner3j(1,4,5,0,0,0))\n",
    "display(wigner3j(3,2,2,0,0,0))\n",
    "display(wigner3j(4,4,4,0,0,0))"
   ]
  },
  {
   "cell_type": "code",
   "execution_count": null,
   "metadata": {},
   "outputs": [],
   "source": []
  }
 ],
 "metadata": {
  "kernelspec": {
   "display_name": "Python 3",
   "language": "python",
   "name": "python3"
  },
  "language_info": {
   "codemirror_mode": {
    "name": "ipython",
    "version": 3
   },
   "file_extension": ".py",
   "mimetype": "text/x-python",
   "name": "python",
   "nbconvert_exporter": "python",
   "pygments_lexer": "ipython3",
   "version": "3.10.0"
  },
  "orig_nbformat": 4
 },
 "nbformat": 4,
 "nbformat_minor": 2
}
